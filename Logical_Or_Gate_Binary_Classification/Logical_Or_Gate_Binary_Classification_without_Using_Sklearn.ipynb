{
 "cells": [
  {
   "cell_type": "code",
   "execution_count": 1,
   "id": "31f5939d-a049-4c7c-a1c4-907b0e16c379",
   "metadata": {},
   "outputs": [],
   "source": [
    "import numpy as np\n",
    "import pandas as pd\n",
    "import matplotlib.pyplot as plt"
   ]
  },
  {
   "cell_type": "code",
   "execution_count": 39,
   "id": "3cfbc023-69eb-47b8-92f2-1cbadd5ea0ee",
   "metadata": {},
   "outputs": [],
   "source": [
    "class OrClassifier:\n",
    "    \"\"\"\n",
    "    A classifier class for predicting OR gate performing two-variated binary classification and using logistic regression.\n",
    "    \"\"\"\n",
    "    # Constructor\n",
    "    def __init__(self, X, y, alpha = 0.01):\n",
    "        self.X = X\n",
    "        self.y = y\n",
    "        self.alpha = alpha\n",
    "        self.m, self.n = self.X.shape\n",
    "        self.theta = np.random.rand(self.n)\n",
    "\n",
    "    \n",
    "    # Plotting the training set\n",
    "    def plot_training_set(self):\n",
    "        plt.title(\"Training Set\")\n",
    "        plt.grid()\n",
    "        for i in range(self.m):\n",
    "            if self.y[i] == 0:\n",
    "                plt.plot(self.X[i, 1], self.X[i, 2], \"rx\")\n",
    "            else:\n",
    "                plt.plot(self.X[i, 1], self.X[i, 2], \"go\")\n",
    "\n",
    "    \n",
    "    # Computing sigmoid value of parameter z\n",
    "    def sigmoid_function(self, z):\n",
    "        sigmoid_value = 1 / (1 + np.exp(-z))\n",
    "        return sigmoid_value\n",
    "\n",
    "    \n",
    "    # Computing hypothesis function based on sigmoid value\n",
    "    def hypothesis_function(self, x):\n",
    "        z = x.dot(self.theta)\n",
    "        hypo_vals = self.sigmoid_function(z)\n",
    "        return hypo_vals\n",
    "\n",
    "    \n",
    "    # Computing cost/loss function for logistic regression\n",
    "    def cost_function(self):\n",
    "        summation = 0\n",
    "        for i in range(self.m):\n",
    "            part1 = self.y[i] * np.log(self.hypothesis_function(X[i, :]))\n",
    "            part2 = (1 - self.y[i]) * np.log(1 - self.hypothesis_function(X[i, :]))\n",
    "            summation += part1 + part2\n",
    "        cost_val = (-1 / self.m) * summation\n",
    "\n",
    "        # part1 = self.y * np.log(self.hypothesis_function(X))\n",
    "        # part2 = (1 - self.y) * np.log(1 - self.hypothesis_function(X))\n",
    "        # summation = sum(part1 + part2)\n",
    "        # cost_vals = (-1 / self.m) * summation\n",
    "        \n",
    "        return cost_val\n",
    "\n",
    "    \n",
    "    # Computing gradient of cost function for using in gradient descent process\n",
    "    def gradient(self):\n",
    "        y_pred = self.hypothesis_function(X)\n",
    "        y_true = self.y\n",
    "        error = y_pred - y_true\n",
    "        summation = self.X.T @ error\n",
    "        gradient_vals = (1 / self.m) * summation\n",
    "        return gradient_vals\n",
    "\n",
    "\n",
    "    # Gradient descent process to obtain optimized theta values,\n",
    "    # cost history values and the number of iterations needed for reaching a convergence\n",
    "    def gradient_descent(self):\n",
    "        \"\"\"\n",
    "        Gradient descent process to obtain optimized theta values, cost history values and the number of iterations needed for reaching a convergence.\n",
    "        !!! Be aware not to use this method and plot_cost_iteration method at the same time as it will cause incorrect results. !!!\n",
    "        \"\"\"\n",
    "        flag = 10\n",
    "        iteration = 0\n",
    "        cost_history = list()\n",
    "        \n",
    "        while flag > 0.000001:\n",
    "            old_cost = self.cost_function()\n",
    "            cost_history.append(old_cost)\n",
    "            \n",
    "            self.theta -= self.alpha * self.gradient()\n",
    "            new_cost = self.cost_function()\n",
    "            \n",
    "            flag = abs(new_cost - old_cost)\n",
    "            iteration += 1\n",
    "\n",
    "        print(f\"The convergence has obtained after {iteration} steps.\")\n",
    "        print(f\"The optimized theta is {self.theta.round(2)}\")\n",
    "        print(f\"The final cost value is {round(self.cost_function(), 4)}\")\n",
    "        return cost_history, iteration, self.theta\n",
    "\n",
    "    \n",
    "    # Predicting probability of new data using the optimized theta\n",
    "    def predict_probability(self, x):\n",
    "        predicted_vals = self.hypothesis_function(x)\n",
    "        return predicted_vals\n",
    "\n",
    "    \n",
    "    # Labeling the predicted probability\n",
    "    def predict_label(self, x):\n",
    "        predicted_labels = (self.predict_probability(x) >= 0.5).astype(int)\n",
    "        return predicted_labels\n",
    "\n",
    "    \n",
    "    # Computing the accuracy of the classifier model\n",
    "    def model_accuracy(self, x):\n",
    "        accuracy = np.mean(self.predict_label(x) == self.y) * 100\n",
    "        return accuracy\n",
    "\n",
    "    \n",
    "    # Plotting cost vs. iteration for debugging of the model\n",
    "    def plot_cost_iteration(self):\n",
    "        \"\"\"\n",
    "        Plot cost vs. iteration for debugging of the model.\n",
    "        !!! Be aware not to use this method and gradient_descent method at the same time as it will cause incorrect results. !!!\n",
    "        \"\"\"\n",
    "        cost_history, iteration, self.theta = orclassifier.gradient_descent()\n",
    "        plt.title(\"Cost vs. Iteration\")\n",
    "        plt.plot(range(1, iteration + 1), cost_history)\n",
    "        plt.xlabel(\"Iteration\")\n",
    "        plt.ylabel(\"Cost\")\n",
    "\n",
    "    \n",
    "    # Plotting the training set along with decision boundary line\n",
    "    def plot_decision_boundary(self):\n",
    "        coef = self.theta\n",
    "        self.plot_training_set()\n",
    "        plt.title(\"Training Set with Decision Boundary\")\n",
    "        plt.plot([0, -coef[0]/coef[2]], [-coef[0]/coef[1], 0], label=\"Decision Boundary\")\n",
    "        plt.legend()\n",
    "        "
   ]
  },
  {
   "cell_type": "code",
   "execution_count": 40,
   "id": "c15fb646-e49f-48e0-8034-630360732215",
   "metadata": {},
   "outputs": [],
   "source": [
    "### Driver Code ###\n",
    "# OR gate dataset\n",
    "X_sans_bias = np.array([[0, 0], [0, 1], [1, 0], [1, 1]])\n",
    "y = np.array([0, 1, 1, 1])"
   ]
  },
  {
   "cell_type": "code",
   "execution_count": 41,
   "id": "91b4e642-2a66-49be-82c1-e48442ec0edc",
   "metadata": {},
   "outputs": [
    {
     "data": {
      "text/plain": [
       "array([[1., 0., 0.],\n",
       "       [1., 0., 1.],\n",
       "       [1., 1., 0.],\n",
       "       [1., 1., 1.]])"
      ]
     },
     "execution_count": 41,
     "metadata": {},
     "output_type": "execute_result"
    }
   ],
   "source": [
    "# Adding column of ones to X dataset\n",
    "x0 = np.ones(shape=(X_sans_bias.shape[0], 1))\n",
    "X = np.concatenate((x0, X_sans_bias), axis=1)\n",
    "X"
   ]
  },
  {
   "cell_type": "code",
   "execution_count": 42,
   "id": "0906854b-b057-4756-9bf4-14424ac37c1c",
   "metadata": {},
   "outputs": [],
   "source": [
    "# Creating an OrClassifier object\n",
    "orclassifier = OrClassifier(X, y, alpha=0.01)"
   ]
  },
  {
   "cell_type": "code",
   "execution_count": 108,
   "id": "1f6de198-89ea-4282-a94d-f7578e746fef",
   "metadata": {},
   "outputs": [
    {
     "data": {
      "image/png": "[encoded data removed]",
      "text/plain": [
       "<Figure size 640x480 with 1 Axes>"
      ]
     },
     "metadata": {},
     "output_type": "display_data"
    }
   ],
   "source": [
    "# Plotting training set\n",
    "orclassifier.plot_training_set()"
   ]
  },
  {
   "cell_type": "code",
   "execution_count": 13,
   "id": "e47c6c4d-a9ca-4e44-9202-3c2744cebfbd",
   "metadata": {},
   "outputs": [
    {
     "data": {
      "text/plain": [
       "1.0"
      ]
     },
     "execution_count": 13,
     "metadata": {},
     "output_type": "execute_result"
    }
   ],
   "source": [
    "# Computing sigmoid value of infinite\n",
    "orclassifier.sigmoid_function(np.inf)"
   ]
  },
  {
   "cell_type": "code",
   "execution_count": 14,
   "id": "a9c7d035-ebf0-4276-8286-385881d7f882",
   "metadata": {},
   "outputs": [
    {
     "data": {
      "text/plain": [
       "array([0.06675806, 0.97346186, 0.97346394, 0.99994684])"
      ]
     },
     "execution_count": 14,
     "metadata": {},
     "output_type": "execute_result"
    }
   ],
   "source": [
    "# Computing hypothesis values of training data\n",
    "orclassifier.hypothesis_function(X)"
   ]
  },
  {
   "cell_type": "code",
   "execution_count": 15,
   "id": "8b4daf13-3157-4340-91d8-86ecab150896",
   "metadata": {},
   "outputs": [
    {
     "data": {
      "text/plain": [
       "0.030733771797502342"
      ]
     },
     "execution_count": 15,
     "metadata": {},
     "output_type": "execute_result"
    }
   ],
   "source": [
    "# Computing cost/loss value of training data\n",
    "orclassifier.cost_function()"
   ]
  },
  {
   "cell_type": "code",
   "execution_count": 16,
   "id": "0a346865-059a-4cdd-9ce8-21e905633533",
   "metadata": {},
   "outputs": [
    {
     "data": {
      "text/plain": [
       "array([ 0.00340768, -0.0066473 , -0.00664782])"
      ]
     },
     "execution_count": 16,
     "metadata": {},
     "output_type": "execute_result"
    }
   ],
   "source": [
    "# Computing gradient values of cost function\n",
    "orclassifier.gradient()"
   ]
  },
  {
   "cell_type": "code",
   "execution_count": 136,
   "id": "40c5fc40-787d-451a-891c-67f3a6de310c",
   "metadata": {},
   "outputs": [
    {
     "name": "stdout",
     "output_type": "stream",
     "text": [
      "The convergence has obtained after 15122 steps.\n",
      "The optimized theta is [0.47 0.85 0.28]\n",
      "The final cost value is 0.4411\n"
     ]
    }
   ],
   "source": [
    "# Computing cost_history, iteration, optimized_theta using gradient_descent method\n",
    "cost_history, iteration, optimized_theta = orclassifier.gradient_descent()"
   ]
  },
  {
   "cell_type": "code",
   "execution_count": 17,
   "id": "a2b501f4-3168-4753-9a14-5288449f7218",
   "metadata": {},
   "outputs": [
    {
     "data": {
      "text/plain": [
       "array([0.06675806, 0.97346186, 0.97346394, 0.99994684])"
      ]
     },
     "execution_count": 17,
     "metadata": {},
     "output_type": "execute_result"
    }
   ],
   "source": [
    "# Predicting probability of training data using optimied theta\n",
    "orclassifier.predict_probability(X)"
   ]
  },
  {
   "cell_type": "code",
   "execution_count": 18,
   "id": "847f8cb4-b041-4c36-86ef-608df9d66917",
   "metadata": {},
   "outputs": [
    {
     "data": {
      "text/plain": [
       "array([0, 1, 1, 1])"
      ]
     },
     "execution_count": 18,
     "metadata": {},
     "output_type": "execute_result"
    }
   ],
   "source": [
    "# Labeling the predicted probability of training data\n",
    "orclassifier.predict_label(X)"
   ]
  },
  {
   "cell_type": "code",
   "execution_count": 11,
   "id": "44b10f6a-8df2-4351-9eac-67860ef2587c",
   "metadata": {},
   "outputs": [
    {
     "data": {
      "text/plain": [
       "100.0"
      ]
     },
     "execution_count": 11,
     "metadata": {},
     "output_type": "execute_result"
    }
   ],
   "source": [
    "# Computing the accuracy of the model\n",
    "orclassifier.model_accuracy(X)"
   ]
  },
  {
   "cell_type": "code",
   "execution_count": 43,
   "id": "36832d16-6f5d-49f2-a261-ba99e264f88c",
   "metadata": {},
   "outputs": [
    {
     "name": "stdout",
     "output_type": "stream",
     "text": [
      "The convergence has obtained after 30757 steps.\n",
      "The optimized theta is [-2.64  6.24  6.24]\n",
      "The final cost value is 0.0307\n"
     ]
    },
    {
     "data": {
      "image/png": "[encoded data removed]",
      "text/plain": [
       "<Figure size 640x480 with 1 Axes>"
      ]
     },
     "metadata": {},
     "output_type": "display_data"
    }
   ],
   "source": [
    "# Plotting cost vs. iteration for debugging\n",
    "orclassifier.plot_cost_iteration()"
   ]
  },
  {
   "cell_type": "code",
   "execution_count": 10,
   "id": "e3cd63cd-6b38-4b7a-8de4-2c81cb6fc1f7",
   "metadata": {},
   "outputs": [
    {
     "data": {
      "image/png": "[encoded data removed]",
      "text/plain": [
       "<Figure size 640x480 with 1 Axes>"
      ]
     },
     "metadata": {},
     "output_type": "display_data"
    }
   ],
   "source": [
    "# Plotting decision boundary line in the training set plot\n",
    "orclassifier.plot_decision_boundary()"
   ]
  },
  {
   "cell_type": "code",
   "execution_count": 45,
   "id": "2a9f62a2-8e5d-4a33-8a84-8c720af76f5b",
   "metadata": {},
   "outputs": [
    {
     "data": {
      "text/html": [
       "<div>\n",
       "<style scoped>\n",
       "    .dataframe tbody tr th:only-of-type {\n",
       "        vertical-align: middle;\n",
       "    }\n",
       "\n",
       "    .dataframe tbody tr th {\n",
       "        vertical-align: top;\n",
       "    }\n",
       "\n",
       "    .dataframe thead th {\n",
       "        text-align: right;\n",
       "    }\n",
       "</style>\n",
       "<table border=\"1\" class=\"dataframe\">\n",
       "  <thead>\n",
       "    <tr style=\"text-align: right;\">\n",
       "      <th></th>\n",
       "      <th>x0</th>\n",
       "      <th>x1</th>\n",
       "      <th>x2</th>\n",
       "      <th>y_actual_label</th>\n",
       "      <th>y_prob</th>\n",
       "      <th>y_pred_label</th>\n",
       "    </tr>\n",
       "  </thead>\n",
       "  <tbody>\n",
       "    <tr>\n",
       "      <th>0</th>\n",
       "      <td>1.0</td>\n",
       "      <td>0.0</td>\n",
       "      <td>0.0</td>\n",
       "      <td>0</td>\n",
       "      <td>0.07</td>\n",
       "      <td>0</td>\n",
       "    </tr>\n",
       "    <tr>\n",
       "      <th>1</th>\n",
       "      <td>1.0</td>\n",
       "      <td>0.0</td>\n",
       "      <td>1.0</td>\n",
       "      <td>1</td>\n",
       "      <td>0.97</td>\n",
       "      <td>1</td>\n",
       "    </tr>\n",
       "    <tr>\n",
       "      <th>2</th>\n",
       "      <td>1.0</td>\n",
       "      <td>1.0</td>\n",
       "      <td>0.0</td>\n",
       "      <td>1</td>\n",
       "      <td>0.97</td>\n",
       "      <td>1</td>\n",
       "    </tr>\n",
       "    <tr>\n",
       "      <th>3</th>\n",
       "      <td>1.0</td>\n",
       "      <td>1.0</td>\n",
       "      <td>1.0</td>\n",
       "      <td>1</td>\n",
       "      <td>1.00</td>\n",
       "      <td>1</td>\n",
       "    </tr>\n",
       "  </tbody>\n",
       "</table>\n",
       "</div>"
      ],
      "text/plain": [
       "    x0   x1   x2  y_actual_label  y_prob  y_pred_label\n",
       "0  1.0  0.0  0.0               0    0.07             0\n",
       "1  1.0  0.0  1.0               1    0.97             1\n",
       "2  1.0  1.0  0.0               1    0.97             1\n",
       "3  1.0  1.0  1.0               1    1.00             1"
      ]
     },
     "execution_count": 45,
     "metadata": {},
     "output_type": "execute_result"
    }
   ],
   "source": [
    "# Creating a dataframe to demonstrate the actual and predicted data together\n",
    "data = pd.DataFrame(X, columns=[\"x0\", \"x1\", \"x2\"])\n",
    "data = data.assign(y_actual_label = y)\n",
    "data = data.assign(y_prob = orclassifier.predict_probability(X).round(2))\n",
    "data = data.assign(y_pred_label = orclassifier.predict_label(X))\n",
    "data"
   ]
  },
  {
   "cell_type": "code",
   "execution_count": 12,
   "id": "a4529f66-b479-4855-b7e8-b70628fdb018",
   "metadata": {},
   "outputs": [
    {
     "data": {
      "text/plain": [
       "array([-2.63758941,  6.23994554,  6.2398652 ])"
      ]
     },
     "execution_count": 12,
     "metadata": {},
     "output_type": "execute_result"
    }
   ],
   "source": [
    "orclassifier.theta"
   ]
  },
  {
   "cell_type": "code",
   "execution_count": 30,
   "id": "1c1191a7-dfc2-4058-8124-108de665b989",
   "metadata": {},
   "outputs": [
    {
     "data": {
      "text/plain": [
       "\u001b[1;31mSignature:\u001b[0m \u001b[0morclassifier\u001b[0m\u001b[1;33m.\u001b[0m\u001b[0mgradient_descent\u001b[0m\u001b[1;33m(\u001b[0m\u001b[1;33m)\u001b[0m\u001b[1;33m\u001b[0m\u001b[1;33m\u001b[0m\u001b[0m\n",
       "\u001b[1;31mDocstring:\u001b[0m\n",
       "Gradient descent process to obtain optimized theta values, cost history values and the number of iterations needed for reaching a convergence.\n",
       "!!! Be aware not to use this method and plot_cost_iteration method at the same time as it will cause incorrect results. !!!\n",
       "\u001b[1;31mFile:\u001b[0m      c:\\users\\user\\appdata\\local\\temp\\ipykernel_10408\\1030629589.py\n",
       "\u001b[1;31mType:\u001b[0m      method"
      ]
     },
     "metadata": {},
     "output_type": "display_data"
    }
   ],
   "source": [
    "orclassifier.gradient_descent?"
   ]
  },
  {
   "cell_type": "code",
   "execution_count": null,
   "id": "37b766fb-f426-43a5-a043-98fc8ab92589",
   "metadata": {},
   "outputs": [],
   "source": []
  }
 ],
 "metadata": {
  "kernelspec": {
   "display_name": "Python 3 (ipykernel)",
   "language": "python",
   "name": "python3"
  },
  "language_info": {
   "codemirror_mode": {
    "name": "ipython",
    "version": 3
   },
   "file_extension": ".py",
   "mimetype": "text/x-python",
   "name": "python",
   "nbconvert_exporter": "python",
   "pygments_lexer": "ipython3",
   "version": "3.12.4"
  }
 },
 "nbformat": 4,
 "nbformat_minor": 5
}
